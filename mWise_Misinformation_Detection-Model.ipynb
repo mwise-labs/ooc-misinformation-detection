{
 "cells": [
  {
   "cell_type": "markdown",
   "metadata": {},
   "source": [
    "# Deploy mWise Misinformation Detection<sup><small>TM</small></sup> from AWS Marketplace \n",
    "\n",
    "\n",
    "This sample notebook shows you how to deploy [**mWise Misinformation Detection**](https://machinewise.io/solutions/misinformation/) using Amazon SageMaker.\n",
    "\n",
    "> **Note**: This is a reference notebook and it cannot run unless you make suggested changes first.\n",
    "\n",
    "## Pre-requisites:\n",
    "1. Jupyter interface - recommended are Amazon SageMaker Notebook Instance or Amazon SageMaker Studio\n",
    "2. Ensure that IAM role used has **AmazonSageMakerFullAccess**\n",
    "3. To deploy this ML model successfully, ensure that:\n",
    "    1. Either your IAM role has these three permissions and you have authority to make AWS Marketplace subscriptions in the AWS account used: \n",
    "        1. **aws-marketplace:ViewSubscriptions**\n",
    "        2. **aws-marketplace:Unsubscribe**\n",
    "        3. **aws-marketplace:Subscribe**  \n",
    "    2. or your AWS account has a subscription to **mWise Misinformation Detection**. If so, skip step: [Subscribe to the model package](#1.-Subscribe-to-the-model-package)\n",
    "\n",
    "## Contents:\n",
    "1. [Subscribe to the model package](#1.-Subscribe-to-the-model-package)\n",
    "2. [Create an endpoint and perform real-time inference](#2.-Create-an-endpoint-and-perform-real-time-inference)\n",
    "   1. [Create an endpoint](#A.-Create-an-endpoint)\n",
    "   2. [Create input payload](#B.-Create-input-payload)\n",
    "   3. [Perform real-time inference](#C.-Perform-real-time-inference)\n",
    "   4. [Visualize output](#D.-Visualize-output)\n",
    "   5. [Delete the endpoint](#E.-Delete-the-endpoint)\n",
    "3. [Perform batch inference](#3.-Perform-batch-inference) \n",
    "4. [Clean-up](#4.-Clean-up)\n",
    "    1. [Delete the model](#A.-Delete-the-model)\n",
    "    2. [Unsubscribe to the listing (optional)](#B.-Unsubscribe-to-the-listing-(optional))\n",
    "    \n",
    "\n",
    "## Usage instructions\n",
    "You can run this notebook one cell at a time (By using Shift+Enter for running a cell)."
   ]
  },
  {
   "cell_type": "markdown",
   "metadata": {},
   "source": [
    "## 1. Subscribe to the model package"
   ]
  },
  {
   "cell_type": "markdown",
   "metadata": {},
   "source": [
    "To subscribe to the model package:\n",
    "1. Open the **mWise Misinformation Detection** model package listing page\n",
    "1. On the AWS Marketplace listing, click on the **Continue to subscribe** button.\n",
    "1. On the **Subscribe to this software** page, review and click on **\"Accept Offer\"** if you and your organization agrees with EULA, pricing, and support terms. \n",
    "1. Once you click on **Continue to configuration button** and then choose a **region**, you will see a **Product Arn** displayed. This is the model package ARN that you need to specify while creating a deployable model using Boto3. Copy the ARN corresponding to your region and specify the same in the following cell."
   ]
  },
  {
   "cell_type": "code",
   "execution_count": null,
   "metadata": {},
   "outputs": [],
   "source": [
    "model_package_arn = \"<Please specify Model package ARN corresponding to your AWS region>\""
   ]
  },
  {
   "cell_type": "code",
   "execution_count": 2,
   "metadata": {},
   "outputs": [],
   "source": [
    "import base64\n",
    "import json\n",
    "import urllib3\n",
    "import boto3\n",
    "import pandas as pd\n",
    "\n",
    "from sagemaker import ModelPackage\n",
    "import sagemaker as sage\n",
    "from sagemaker import get_execution_role\n",
    "\n",
    "from IPython.display import display\n",
    "from ipywidgets import widgets, HBox, TwoByTwoLayout"
   ]
  },
  {
   "cell_type": "code",
   "execution_count": null,
   "metadata": {},
   "outputs": [],
   "source": [
    "role = get_execution_role()\n",
    "\n",
    "sagemaker_session = sage.Session()\n",
    "\n",
    "bucket = sagemaker_session.default_bucket()\n",
    "runtime = boto3.client(\"runtime-sagemaker\")"
   ]
  },
  {
   "cell_type": "markdown",
   "metadata": {},
   "source": [
    "## 2. Create an endpoint and perform real-time inference"
   ]
  },
  {
   "cell_type": "markdown",
   "metadata": {},
   "source": [
    "If you want to understand how real-time inference with Amazon SageMaker works, see [Documentation](https://docs.aws.amazon.com/sagemaker/latest/dg/how-it-works-hosting.html)."
   ]
  },
  {
   "cell_type": "code",
   "execution_count": 51,
   "metadata": {},
   "outputs": [],
   "source": [
    "model_endpoint_name = \"ooc-misinformation-detection\"\n",
    "real_time_inference_instance_type = \"ml.t2.medium\"\n",
    "batch_transform_inference_instance_type = \"ml.m5.xlarge\""
   ]
  },
  {
   "cell_type": "markdown",
   "metadata": {},
   "source": [
    "### A. Create an endpoint"
   ]
  },
  {
   "cell_type": "code",
   "execution_count": null,
   "metadata": {},
   "outputs": [],
   "source": [
    "# create a deployable model from the model package.\n",
    "model = ModelPackage(\n",
    "    role=role, model_package_arn=model_package_arn, sagemaker_session=sagemaker_session\n",
    ")\n",
    "\n",
    "# Deploy the model\n",
    "predictor = model.deploy(1, real_time_inference_instance_type, endpoint_name=model_endpoint_name)"
   ]
  },
  {
   "cell_type": "markdown",
   "metadata": {},
   "source": [
    "Once endpoint has been created, you would be able to perform real-time inference."
   ]
  },
  {
   "cell_type": "markdown",
   "metadata": {},
   "source": [
    "### B. Create input payload"
   ]
  },
  {
   "cell_type": "markdown",
   "metadata": {},
   "source": [
    "**mWise Misinformation Detection** model is multimodal, since it takes image and image caption together as input. To prepare caption-image pair for inference, you'll need to prepare input data as multipart/form-data content-type. Let's first visualize example inputs."
   ]
  },
  {
   "cell_type": "code",
   "execution_count": 49,
   "metadata": {},
   "outputs": [
    {
     "name": "stdout",
     "output_type": "stream",
     "text": [
      "Proper caption for left image from USA Today: \"New England Patriots quarterback Tom Brady and Denver Broncos outside linebacker Von Miller have words during the first half at Sports Authority Field at Mile High\"\n",
      "\n",
      "Image on the right is from Guardian, and when used with the same caption it presents an example of out-of-context misinformation\n"
     ]
    },
    {
     "data": {
      "application/vnd.jupyter.widget-view+json": {
       "model_id": "ed66abb07182414bbc8cf12d88abca8a",
       "version_major": 2,
       "version_minor": 0
      },
      "text/plain": [
       "HBox(children=(Image(value=b'\\xff\\xd8\\xff\\xe0\\x00\\x10JFIF\\x00\\x01\\x01\\x00\\x00\\x01\\x00\\x01\\x00\\x00\\xff\\xdb\\x00C…"
      ]
     },
     "metadata": {},
     "output_type": "display_data"
    }
   ],
   "source": [
    "proper_image = widgets.Image(value=open('data/input/real-time/usa_today_proper_usage.jpeg', 'rb').read())\n",
    "ooc_image = widgets.Image(value=open('data/input/real-time/guardian_out_of_context_usage.jpeg', 'rb').read())\n",
    "box_layout = widgets.Layout(display='flex', justify_content=\"center\")\n",
    "\n",
    "caption = open(\"data/input/real-time/caption.txt\", \"r\").read().strip()\n",
    "\n",
    "print(f'Proper caption for left image from USA Today: \"{caption}\"\\n')\n",
    "print(\"Image on the right is from Guardian, and when used with the same caption \"\n",
    "      \"it presents an example of out-of-context misinformation\")\n",
    "\n",
    "hbox = HBox([proper_image, ooc_image], layout=box_layout)\n",
    "display(hbox)"
   ]
  },
  {
   "cell_type": "code",
   "execution_count": null,
   "metadata": {},
   "outputs": [],
   "source": [
    "# load caption and image from data/input/real-time\n",
    "caption = open(\"data/input/real-time/caption.txt\", \"r\").read().strip()\n",
    "proper_image = 'data/input/real-time/usa_today_proper_usage.jpeg'\n",
    "ooc_image = 'data/input/real-time/guardian_out_of_context_usage.jpeg'\n",
    "\n",
    "# multipart/form-data splits the input fields with random boundary, which we can control\n",
    "form_boundary_string = \"some_longer_unique_string\"\n",
    "\n",
    "# prepare proper payload\n",
    "proper_payload, content_type_with_boundary = urllib3.encode_multipart_formdata({\n",
    "    \"caption\": caption,\n",
    "    \"image\": (proper_image.split('/')[-1], open(proper_image, \"rb\").read(), \"image/jpeg\")\n",
    "}, boundary=form_boundary_string)\n",
    "\n",
    "# prepare ooc payload\n",
    "ooc_payload, content_type_with_boundary = urllib3.encode_multipart_formdata({\n",
    "    \"caption\": caption,\n",
    "    \"image\": (ooc_image.split('/')[-1], open(ooc_image, \"rb\").read(), \"image/jpeg\")\n",
    "}, boundary=form_boundary_string)"
   ]
  },
  {
   "cell_type": "markdown",
   "metadata": {},
   "source": [
    "<Add code snippet that shows the payload contents>"
   ]
  },
  {
   "cell_type": "markdown",
   "metadata": {},
   "source": [
    "### C. Perform real-time inference"
   ]
  },
  {
   "cell_type": "code",
   "execution_count": null,
   "metadata": {},
   "outputs": [],
   "source": [
    "expected_proper_response = self.sagemaker_runtime.invoke_endpoint(\n",
    "    EndpointName=model_endpoint_name,\n",
    "    ContentType=content_type_with_boundary,\n",
    "    Accept='application/json',\n",
    "    Body=proper_payload\n",
    ")\n",
    "\n",
    "# save for offline inspection\n",
    "with open(\"data/output/real-time/proper.json\", \"w\") as outfile:\n",
    "    json.dump(expected_proper_response, outfile)\n",
    "\n",
    "expected_ooc_response = self.sagemaker_runtime.invoke_endpoint(\n",
    "    EndpointName=model_endpoint_name,\n",
    "    ContentType=content_type_with_boundary,\n",
    "    Accept='application/json',\n",
    "    Body=ooc_payload\n",
    ")\n",
    "\n",
    "# save for offline inspection\n",
    "with open(\"data/output/real-time/ooc.json\", \"w\") as outfile:\n",
    "    json.dump(expected_ooc_response, outfile)"
   ]
  },
  {
   "cell_type": "markdown",
   "metadata": {},
   "source": [
    "### D. Inspect output"
   ]
  },
  {
   "cell_type": "code",
   "execution_count": null,
   "metadata": {},
   "outputs": [],
   "source": [
    "print(expected_proper_response)\n",
    "print(expected_ooc_response)"
   ]
  },
  {
   "cell_type": "markdown",
   "metadata": {},
   "source": [
    "As expected, probability of proper usage for proper use-case is higher for 1st image, and vice versa. Note that payload resembles AWS Rekognition payload for DetectLabels API."
   ]
  },
  {
   "cell_type": "markdown",
   "metadata": {},
   "source": [
    "### E. Delete the endpoint"
   ]
  },
  {
   "cell_type": "markdown",
   "metadata": {},
   "source": [
    "Now that you have successfully performed a real-time inference, you do not need the endpoint any more. You can terminate the endpoint to avoid being charged."
   ]
  },
  {
   "cell_type": "code",
   "execution_count": null,
   "metadata": {},
   "outputs": [],
   "source": [
    "model.sagemaker_session.delete_endpoint(model_name)\n",
    "model.sagemaker_session.delete_endpoint_config(model_name)"
   ]
  },
  {
   "cell_type": "markdown",
   "metadata": {},
   "source": [
    "## 3. Perform batch inference"
   ]
  },
  {
   "cell_type": "markdown",
   "metadata": {},
   "source": [
    "In this section, you will perform batch inference using multiple input payloads together. If you are not familiar with batch transform, and want to learn more, see these links:\n",
    "1. [How it works](https://docs.aws.amazon.com/sagemaker/latest/dg/ex1-batch-transform.html)\n",
    "2. [How to run a batch transform job](https://docs.aws.amazon.com/sagemaker/latest/dg/how-it-works-batch.html)\n",
    "\n",
    "Since AWS Marketplace SageMaker model products are restricted with network_isolation, it is not trivial to prepare images and captions as separate files for batch processing. One workaround is to base64 encode images and save to file together with respective caption.\n",
    "\n",
    "Content type for batch processing should be CSV, with 2 columns without header:\n",
    "- content string\n",
    "- base64 image string"
   ]
  },
  {
   "cell_type": "code",
   "execution_count": null,
   "metadata": {},
   "outputs": [],
   "source": [
    "# prepare captions and images from batch inpiut folder into input.csv file for batch processing\n",
    "def process_line(line):\n",
    "    with open(line['image'], \"rb\") as image_file:\n",
    "        image_bytes = image_file.read()\n",
    "        image_bytes_64 = base64.b64encode(image_bytes).decode(\"ascii\")\n",
    "\n",
    "    return image_bytes_64\n",
    "\n",
    "\n",
    "def transform_test_data(test_data_file):\n",
    "    test_data = pd.read_json(test_data_file, lines=True)\n",
    "    test_data['image_bytes'] = test_data.apply(lambda x: process_line(x), axis=1)\n",
    "    test_data = test_data[['caption', 'image_bytes']]\n",
    "    test_data.to_csv(\"input.csv\", header=False, index=False)\n",
    "    \n",
    "transform_test_data(\"test.jsonl\")"
   ]
  },
  {
   "cell_type": "code",
   "execution_count": null,
   "metadata": {},
   "outputs": [],
   "source": [
    "# upload the batch-transform job input CSV file to S3\n",
    "transform_input_file = \"data/input/batch/input.csv\"\n",
    "transform_input = sagemaker_session.upload_data(transform_input_file, key_prefix=model_endpoint_name)\n",
    "print(\"Transform input uploaded to \" + transform_input)"
   ]
  },
  {
   "cell_type": "code",
   "execution_count": null,
   "metadata": {},
   "outputs": [],
   "source": [
    "# Run the batch-transform job\n",
    "transformer = model.transformer(1, batch_transform_inference_instance_type, \n",
    "                                strategy='SingleRecord', accept='text/csv', assemble_with='Line')\n",
    "transformer.transform(transform_input, content_type='text/csv', split_type='Line', join_source='Input')\n",
    "transformer.wait()"
   ]
  },
  {
   "cell_type": "code",
   "execution_count": null,
   "metadata": {},
   "outputs": [],
   "source": [
    "# output is available on following path\n",
    "transformer.output_path"
   ]
  },
  {
   "cell_type": "code",
   "execution_count": null,
   "metadata": {},
   "outputs": [],
   "source": [
    "# offline example can be found in data/output/batch/input.csv.out\n",
    "print(open(\"data/output/batch/input.csv.out\", \"r\").read())"
   ]
  },
  {
   "cell_type": "markdown",
   "metadata": {},
   "source": [
    "## 4. Clean-up"
   ]
  },
  {
   "cell_type": "markdown",
   "metadata": {},
   "source": [
    "### A. Delete the model"
   ]
  },
  {
   "cell_type": "code",
   "execution_count": null,
   "metadata": {},
   "outputs": [],
   "source": [
    "model.delete_model()"
   ]
  },
  {
   "cell_type": "markdown",
   "metadata": {},
   "source": [
    "### B. Unsubscribe to the listing (optional)"
   ]
  },
  {
   "cell_type": "markdown",
   "metadata": {},
   "source": [
    "If you would like to unsubscribe to the model package, follow these steps. Before you cancel the subscription, ensure that you do not have any [deployable model](https://console.aws.amazon.com/sagemaker/home#/models) created from the model package or using the algorithm. Note - You can find this information by looking at the container name associated with the model. \n",
    "\n",
    "**Steps to unsubscribe to product from AWS Marketplace**:\n",
    "1. Navigate to __Machine Learning__ tab on [__Your Software subscriptions page__](https://aws.amazon.com/marketplace/ai/library?productType=ml&ref_=mlmp_gitdemo_indust)\n",
    "2. Locate the listing that you want to cancel the subscription for, and then choose __Cancel Subscription__  to cancel the subscription.\n",
    "\n"
   ]
  }
 ],
 "metadata": {
  "instance_type": "ml.t3.medium",
  "kernelspec": {
   "display_name": "Environment (conda_py37)",
   "language": "python",
   "name": "conda_py37"
  },
  "language_info": {
   "codemirror_mode": {
    "name": "ipython",
    "version": 3
   },
   "file_extension": ".py",
   "mimetype": "text/x-python",
   "name": "python",
   "nbconvert_exporter": "python",
   "pygments_lexer": "ipython3",
   "version": "3.7.12"
  }
 },
 "nbformat": 4,
 "nbformat_minor": 4
}
